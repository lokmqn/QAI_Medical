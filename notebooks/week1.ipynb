# week1.ipynb
import sys, os
sys.path.append('..')
from quantum.week1_qhi import qhi
from ai.week1_classifier import build_model
from math.week1_qentropy import q_entropy_loss

print("Week-1 overview:")
print("QHI =", qhi(0.3, 0.8, 50, 60))
print("Q-Entropy Loss =", q_entropy_loss(1, 0.9, np.eye(2)/2, 0.2, 0.1))
build_model().summary()
