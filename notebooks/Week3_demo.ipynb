# week3_demo.ipynb
import sys, os
sys.path.append('..')

from quantum.week3_watermark import embed_watermark, verify_watermark
from ai.week3_loader import load_medical
from math.week3_qhash import ctqw_hash

imgs = load_medical(3)
rho = embed_watermark(imgs[0][0].flatten(), key=np.pi/4)
fake = imgs[0][0] + 0.05*np.random.randn(224,224,3)
rho_fake = embed_watermark(fake.flatten(), key=np.pi/4)
print("Tamper detected:", verify_watermark(rho, rho_fake))
print("Hash:", ctqw_hash(imgs[0][0].flatten())[:8])
