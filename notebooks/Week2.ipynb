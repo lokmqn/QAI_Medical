# week2.ipynb
import sys, os
sys.path.append('..')
from quantum.week2_vqnn import init_theta
from math.week2_dcr import dcr_from_t1t2
from ai.week2_train import model, x, y

print("DCR (Hz):", dcr_from_t1t2(50, 30))
print("θ shape:", init_theta().shape)
model.evaluate(x, y)
