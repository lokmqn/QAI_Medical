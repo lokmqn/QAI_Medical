# week4_demo.ipynb
import sys, os
sys.path.append('..')

from quantum.week4_federated import federated_average
from quantum.week4_ctw_hash import ctqw_hash
from ai.week4_gan import build_generator, build_discriminator

print("FedAvg example:", federated_average([np.ones(4), np.ones(4)*0.9], [128, 64]))
print("CTQW digest:", ctqw_hash(np.ones(8)))
build_generator().summary()
