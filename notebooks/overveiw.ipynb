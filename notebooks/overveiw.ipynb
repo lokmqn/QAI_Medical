# week0_overview.ipynb
import sys, os
sys.path.append('..')
from quantum.noise_profiler import dcr_from_t1t2, simulated_t1t2
from ai.tiny_cnn import build_model

T1, T2 = simulated_t1t2()
print("T1 =", T1, "µs, T2 =", T2, "µs")
print("DCR =", dcr_from_t1t2(T1, T2), "Hz")

model = build_model()
model.summary()
